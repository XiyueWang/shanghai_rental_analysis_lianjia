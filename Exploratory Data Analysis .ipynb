{
 "cells": [
  {
   "cell_type": "markdown",
   "metadata": {},
   "source": [
    "### Shanghai Rental Data \n",
    "\n",
    "This data is scrapied from Lianjia.com (as of 10/01/2020). The csv files contains name, rental type, # of beds, price, longitude, latitude, balcony, deposit, apartment, rent_description, touring, transportation, independent bath, furnished, new listing, size, orientation, leve, elevator, parking and amenities information.\n",
    "\n",
    "Attributes:\n",
    "- name: name of listing\n",
    "- type: sublease or entire leasing (all entire)\n",
    "- beds: bedroom number\n",
    "- price\n",
    "- lon/lat: coordinates\n",
    "- balcony, deposit(whether has deposit policy), apartment, rent_description, touring availability, close to transportation, independent bath, furnished, new listing: NO-0, YES-1.\n",
    "- size: square meters\n",
    "- orientation: facing of the windows, south-1, southeast-2, east-3, north-4, southwest-5, west-6, northwest-7, northeast-8, unknown-0\n",
    "- level: levels of the listing, basement-0, low level(1-15)-1, mid level(15-25)-2, high level(>25)-3\n",
    "- parking: no parking-0, extra cost avalaible-1, free parking-2\n",
    "- amenities: amenities number "
   ]
  },
  {
   "cell_type": "code",
   "execution_count": 124,
   "metadata": {},
   "outputs": [],
   "source": [
    "import pandas as pd\n",
    "import numpy as np"
   ]
  },
  {
   "cell_type": "code",
   "execution_count": 131,
   "metadata": {},
   "outputs": [],
   "source": [
    "df = pd.read_csv('lianjia_shanghai.csv', sep =',', encoding='utf_8_sig', header=None)"
   ]
  },
  {
   "cell_type": "code",
   "execution_count": 132,
   "metadata": {},
   "outputs": [
    {
     "data": {
      "text/html": [
       "<div>\n",
       "<style scoped>\n",
       "    .dataframe tbody tr th:only-of-type {\n",
       "        vertical-align: middle;\n",
       "    }\n",
       "\n",
       "    .dataframe tbody tr th {\n",
       "        vertical-align: top;\n",
       "    }\n",
       "\n",
       "    .dataframe thead th {\n",
       "        text-align: right;\n",
       "    }\n",
       "</style>\n",
       "<table border=\"1\" class=\"dataframe\">\n",
       "  <thead>\n",
       "    <tr style=\"text-align: right;\">\n",
       "      <th></th>\n",
       "      <th>0</th>\n",
       "      <th>1</th>\n",
       "      <th>2</th>\n",
       "      <th>3</th>\n",
       "      <th>4</th>\n",
       "      <th>5</th>\n",
       "      <th>6</th>\n",
       "      <th>7</th>\n",
       "      <th>8</th>\n",
       "      <th>9</th>\n",
       "      <th>...</th>\n",
       "      <th>11</th>\n",
       "      <th>12</th>\n",
       "      <th>13</th>\n",
       "      <th>14</th>\n",
       "      <th>15</th>\n",
       "      <th>16</th>\n",
       "      <th>17</th>\n",
       "      <th>18</th>\n",
       "      <th>19</th>\n",
       "      <th>20</th>\n",
       "    </tr>\n",
       "  </thead>\n",
       "  <tbody>\n",
       "    <tr>\n",
       "      <th>0</th>\n",
       "      <td>三兴小区</td>\n",
       "      <td>整租</td>\n",
       "      <td>1</td>\n",
       "      <td>4500.0</td>\n",
       "      <td>121.466522</td>\n",
       "      <td>31.258257</td>\n",
       "      <td>0</td>\n",
       "      <td>0</td>\n",
       "      <td>0</td>\n",
       "      <td>0</td>\n",
       "      <td>...</td>\n",
       "      <td>1</td>\n",
       "      <td>0</td>\n",
       "      <td>1</td>\n",
       "      <td>0</td>\n",
       "      <td>31</td>\n",
       "      <td>北</td>\n",
       "      <td>低楼层/7层</td>\n",
       "      <td>无</td>\n",
       "      <td>暂无数据</td>\n",
       "      <td>5</td>\n",
       "    </tr>\n",
       "    <tr>\n",
       "      <th>1</th>\n",
       "      <td>华龙大酒店</td>\n",
       "      <td>整租</td>\n",
       "      <td>1</td>\n",
       "      <td>3700.0</td>\n",
       "      <td>121.458494</td>\n",
       "      <td>31.262110</td>\n",
       "      <td>0</td>\n",
       "      <td>0</td>\n",
       "      <td>0</td>\n",
       "      <td>0</td>\n",
       "      <td>...</td>\n",
       "      <td>1</td>\n",
       "      <td>0</td>\n",
       "      <td>0</td>\n",
       "      <td>0</td>\n",
       "      <td>43</td>\n",
       "      <td>南</td>\n",
       "      <td>中楼层/16层</td>\n",
       "      <td>无</td>\n",
       "      <td>暂无数据</td>\n",
       "      <td>0</td>\n",
       "    </tr>\n",
       "    <tr>\n",
       "      <th>2</th>\n",
       "      <td>协和大厦</td>\n",
       "      <td>整租</td>\n",
       "      <td>2</td>\n",
       "      <td>8500.0</td>\n",
       "      <td>121.464014</td>\n",
       "      <td>31.265904</td>\n",
       "      <td>0</td>\n",
       "      <td>0</td>\n",
       "      <td>0</td>\n",
       "      <td>0</td>\n",
       "      <td>...</td>\n",
       "      <td>1</td>\n",
       "      <td>0</td>\n",
       "      <td>0</td>\n",
       "      <td>0</td>\n",
       "      <td>92</td>\n",
       "      <td>南</td>\n",
       "      <td>中楼层/20层</td>\n",
       "      <td>有</td>\n",
       "      <td>暂无数据</td>\n",
       "      <td>7</td>\n",
       "    </tr>\n",
       "    <tr>\n",
       "      <th>3</th>\n",
       "      <td>安源小区</td>\n",
       "      <td>整租</td>\n",
       "      <td>2</td>\n",
       "      <td>8200.0</td>\n",
       "      <td>121.457048</td>\n",
       "      <td>31.251189</td>\n",
       "      <td>0</td>\n",
       "      <td>0</td>\n",
       "      <td>0</td>\n",
       "      <td>0</td>\n",
       "      <td>...</td>\n",
       "      <td>0</td>\n",
       "      <td>0</td>\n",
       "      <td>1</td>\n",
       "      <td>0</td>\n",
       "      <td>78</td>\n",
       "      <td>南</td>\n",
       "      <td>低楼层/21层</td>\n",
       "      <td>有</td>\n",
       "      <td>暂无数据</td>\n",
       "      <td>8</td>\n",
       "    </tr>\n",
       "    <tr>\n",
       "      <th>4</th>\n",
       "      <td>和泰花园</td>\n",
       "      <td>整租</td>\n",
       "      <td>2</td>\n",
       "      <td>9000.0</td>\n",
       "      <td>121.457915</td>\n",
       "      <td>31.263993</td>\n",
       "      <td>0</td>\n",
       "      <td>0</td>\n",
       "      <td>0</td>\n",
       "      <td>0</td>\n",
       "      <td>...</td>\n",
       "      <td>1</td>\n",
       "      <td>0</td>\n",
       "      <td>0</td>\n",
       "      <td>0</td>\n",
       "      <td>93</td>\n",
       "      <td>南</td>\n",
       "      <td>低楼层/17层</td>\n",
       "      <td>有</td>\n",
       "      <td>租用车位</td>\n",
       "      <td>8</td>\n",
       "    </tr>\n",
       "  </tbody>\n",
       "</table>\n",
       "<p>5 rows × 21 columns</p>\n",
       "</div>"
      ],
      "text/plain": [
       "      0   1  2       3           4          5   6   7   8   9   ...  11  12  \\\n",
       "0   三兴小区  整租  1  4500.0  121.466522  31.258257   0   0   0   0  ...   1   0   \n",
       "1  华龙大酒店  整租  1  3700.0  121.458494  31.262110   0   0   0   0  ...   1   0   \n",
       "2   协和大厦  整租  2  8500.0  121.464014  31.265904   0   0   0   0  ...   1   0   \n",
       "3   安源小区  整租  2  8200.0  121.457048  31.251189   0   0   0   0  ...   0   0   \n",
       "4   和泰花园  整租  2  9000.0  121.457915  31.263993   0   0   0   0  ...   1   0   \n",
       "\n",
       "   13  14  15  16       17 18    19 20  \n",
       "0   1   0  31   北   低楼层/7层  无  暂无数据  5  \n",
       "1   0   0  43   南  中楼层/16层  无  暂无数据  0  \n",
       "2   0   0  92   南  中楼层/20层  有  暂无数据  7  \n",
       "3   1   0  78   南  低楼层/21层  有  暂无数据  8  \n",
       "4   0   0  93   南  低楼层/17层  有  租用车位  8  \n",
       "\n",
       "[5 rows x 21 columns]"
      ]
     },
     "execution_count": 132,
     "metadata": {},
     "output_type": "execute_result"
    }
   ],
   "source": [
    "df.head()"
   ]
  },
  {
   "cell_type": "markdown",
   "metadata": {},
   "source": [
    "### ETL\n",
    "\n",
    "ETL process, clean and translate the dataframe into English."
   ]
  },
  {
   "cell_type": "code",
   "execution_count": 138,
   "metadata": {},
   "outputs": [],
   "source": [
    "def cleanRental(df):\n",
    "    # drop duplicates\n",
    "    df_copy = df.copy()\n",
    "    df_copy = df_copy.drop_duplicates()\n",
    "    #rename columns \n",
    "    cols = ['name', 'type', 'beds', 'price', 'lon', 'lat', 'balcony', 'deposit', 'apartment', 'rent_description', \n",
    "            'touring', 'close_to_transportation', 'independent_bath', 'furnished', 'new_listing', 'size', \n",
    "            'orientation', 'level', 'elevator', 'parking', 'amenities']\n",
    "    df_copy.columns = cols\n",
    "    # remove type since it's all entire apartment\n",
    "    df_copy.drop('type', axis=1, inplace=True)\n",
    "    # clean beds type unreadable\n",
    "    df_copy.drop(10811, axis=0, inplace=True)\n",
    "    # translate orientation\n",
    "    df_copy.orientation = df_copy.orientation.apply(lambda x: x.split(' ')[0])\n",
    "    rep = {'南': 1, '东南': 2, '东': 3, '北': 4, '西南': 5, '西': 6, '西北': 7, '东北':8, '未知': 0}\n",
    "    df_copy.orientation.replace(rep, inplace=True)\n",
    "    # clean levels \n",
    "    df_copy.level = df_copy.level.apply(lambda x: x.split('/')[0])\n",
    "    df_copy.level.replace({'地下室': 0, '低楼层': 1, '中楼层': 2, '高楼层':3}, inplace=True)\n",
    "    #df_copytranslate elevator\n",
    "    df_copy.elevator.replace({'无':0, '有':1}, inplace=True)\n",
    "    # translate parking info\n",
    "    df_copy.parking.replace({'暂无数据': 0, '租用车位': 1, '免费使用': 2}, inplace=True)\n",
    "    return df_copy"
   ]
  },
  {
   "cell_type": "code",
   "execution_count": 139,
   "metadata": {},
   "outputs": [],
   "source": [
    "df_clean = cleanRental(df)"
   ]
  },
  {
   "cell_type": "code",
   "execution_count": 140,
   "metadata": {},
   "outputs": [
    {
     "data": {
      "text/html": [
       "<div>\n",
       "<style scoped>\n",
       "    .dataframe tbody tr th:only-of-type {\n",
       "        vertical-align: middle;\n",
       "    }\n",
       "\n",
       "    .dataframe tbody tr th {\n",
       "        vertical-align: top;\n",
       "    }\n",
       "\n",
       "    .dataframe thead th {\n",
       "        text-align: right;\n",
       "    }\n",
       "</style>\n",
       "<table border=\"1\" class=\"dataframe\">\n",
       "  <thead>\n",
       "    <tr style=\"text-align: right;\">\n",
       "      <th></th>\n",
       "      <th>name</th>\n",
       "      <th>beds</th>\n",
       "      <th>price</th>\n",
       "      <th>lon</th>\n",
       "      <th>lat</th>\n",
       "      <th>balcony</th>\n",
       "      <th>deposit</th>\n",
       "      <th>apartment</th>\n",
       "      <th>rent_description</th>\n",
       "      <th>touring</th>\n",
       "      <th>close_to_transportation</th>\n",
       "      <th>independent_bath</th>\n",
       "      <th>furnished</th>\n",
       "      <th>new_listing</th>\n",
       "      <th>size</th>\n",
       "      <th>orientation</th>\n",
       "      <th>level</th>\n",
       "      <th>elevator</th>\n",
       "      <th>parking</th>\n",
       "      <th>amenities</th>\n",
       "    </tr>\n",
       "  </thead>\n",
       "  <tbody>\n",
       "    <tr>\n",
       "      <th>0</th>\n",
       "      <td>三兴小区</td>\n",
       "      <td>1</td>\n",
       "      <td>4500.0</td>\n",
       "      <td>121.466522</td>\n",
       "      <td>31.258257</td>\n",
       "      <td>0</td>\n",
       "      <td>0</td>\n",
       "      <td>0</td>\n",
       "      <td>0</td>\n",
       "      <td>1</td>\n",
       "      <td>1</td>\n",
       "      <td>0</td>\n",
       "      <td>1</td>\n",
       "      <td>0</td>\n",
       "      <td>31</td>\n",
       "      <td>4</td>\n",
       "      <td>1</td>\n",
       "      <td>0</td>\n",
       "      <td>0</td>\n",
       "      <td>5</td>\n",
       "    </tr>\n",
       "    <tr>\n",
       "      <th>1</th>\n",
       "      <td>华龙大酒店</td>\n",
       "      <td>1</td>\n",
       "      <td>3700.0</td>\n",
       "      <td>121.458494</td>\n",
       "      <td>31.262110</td>\n",
       "      <td>0</td>\n",
       "      <td>0</td>\n",
       "      <td>0</td>\n",
       "      <td>0</td>\n",
       "      <td>1</td>\n",
       "      <td>1</td>\n",
       "      <td>0</td>\n",
       "      <td>0</td>\n",
       "      <td>0</td>\n",
       "      <td>43</td>\n",
       "      <td>1</td>\n",
       "      <td>2</td>\n",
       "      <td>0</td>\n",
       "      <td>0</td>\n",
       "      <td>0</td>\n",
       "    </tr>\n",
       "    <tr>\n",
       "      <th>2</th>\n",
       "      <td>协和大厦</td>\n",
       "      <td>2</td>\n",
       "      <td>8500.0</td>\n",
       "      <td>121.464014</td>\n",
       "      <td>31.265904</td>\n",
       "      <td>0</td>\n",
       "      <td>0</td>\n",
       "      <td>0</td>\n",
       "      <td>0</td>\n",
       "      <td>1</td>\n",
       "      <td>1</td>\n",
       "      <td>0</td>\n",
       "      <td>0</td>\n",
       "      <td>0</td>\n",
       "      <td>92</td>\n",
       "      <td>1</td>\n",
       "      <td>2</td>\n",
       "      <td>1</td>\n",
       "      <td>0</td>\n",
       "      <td>7</td>\n",
       "    </tr>\n",
       "    <tr>\n",
       "      <th>3</th>\n",
       "      <td>安源小区</td>\n",
       "      <td>2</td>\n",
       "      <td>8200.0</td>\n",
       "      <td>121.457048</td>\n",
       "      <td>31.251189</td>\n",
       "      <td>0</td>\n",
       "      <td>0</td>\n",
       "      <td>0</td>\n",
       "      <td>0</td>\n",
       "      <td>0</td>\n",
       "      <td>0</td>\n",
       "      <td>0</td>\n",
       "      <td>1</td>\n",
       "      <td>0</td>\n",
       "      <td>78</td>\n",
       "      <td>1</td>\n",
       "      <td>1</td>\n",
       "      <td>1</td>\n",
       "      <td>0</td>\n",
       "      <td>8</td>\n",
       "    </tr>\n",
       "    <tr>\n",
       "      <th>4</th>\n",
       "      <td>和泰花园</td>\n",
       "      <td>2</td>\n",
       "      <td>9000.0</td>\n",
       "      <td>121.457915</td>\n",
       "      <td>31.263993</td>\n",
       "      <td>0</td>\n",
       "      <td>0</td>\n",
       "      <td>0</td>\n",
       "      <td>0</td>\n",
       "      <td>0</td>\n",
       "      <td>1</td>\n",
       "      <td>0</td>\n",
       "      <td>0</td>\n",
       "      <td>0</td>\n",
       "      <td>93</td>\n",
       "      <td>1</td>\n",
       "      <td>1</td>\n",
       "      <td>1</td>\n",
       "      <td>1</td>\n",
       "      <td>8</td>\n",
       "    </tr>\n",
       "  </tbody>\n",
       "</table>\n",
       "</div>"
      ],
      "text/plain": [
       "    name beds   price         lon        lat  balcony  deposit  apartment  \\\n",
       "0   三兴小区    1  4500.0  121.466522  31.258257        0        0          0   \n",
       "1  华龙大酒店    1  3700.0  121.458494  31.262110        0        0          0   \n",
       "2   协和大厦    2  8500.0  121.464014  31.265904        0        0          0   \n",
       "3   安源小区    2  8200.0  121.457048  31.251189        0        0          0   \n",
       "4   和泰花园    2  9000.0  121.457915  31.263993        0        0          0   \n",
       "\n",
       "   rent_description  touring  close_to_transportation  independent_bath  \\\n",
       "0                 0        1                        1                 0   \n",
       "1                 0        1                        1                 0   \n",
       "2                 0        1                        1                 0   \n",
       "3                 0        0                        0                 0   \n",
       "4                 0        0                        1                 0   \n",
       "\n",
       "   furnished  new_listing  size  orientation  level  elevator  parking  \\\n",
       "0          1            0    31            4      1         0        0   \n",
       "1          0            0    43            1      2         0        0   \n",
       "2          0            0    92            1      2         1        0   \n",
       "3          1            0    78            1      1         1        0   \n",
       "4          0            0    93            1      1         1        1   \n",
       "\n",
       "   amenities  \n",
       "0          5  \n",
       "1          0  \n",
       "2          7  \n",
       "3          8  \n",
       "4          8  "
      ]
     },
     "execution_count": 140,
     "metadata": {},
     "output_type": "execute_result"
    }
   ],
   "source": [
    "df_clean.head()"
   ]
  },
  {
   "cell_type": "code",
   "execution_count": 141,
   "metadata": {},
   "outputs": [
    {
     "name": "stdout",
     "output_type": "stream",
     "text": [
      "<class 'pandas.core.frame.DataFrame'>\n",
      "Int64Index: 10994 entries, 0 to 10998\n",
      "Data columns (total 20 columns):\n",
      " #   Column                   Non-Null Count  Dtype  \n",
      "---  ------                   --------------  -----  \n",
      " 0   name                     10994 non-null  object \n",
      " 1   beds                     10994 non-null  object \n",
      " 2   price                    10994 non-null  float64\n",
      " 3   lon                      10994 non-null  float64\n",
      " 4   lat                      10994 non-null  float64\n",
      " 5   balcony                  10994 non-null  int64  \n",
      " 6   deposit                  10994 non-null  int64  \n",
      " 7   apartment                10994 non-null  int64  \n",
      " 8   rent_description         10994 non-null  int64  \n",
      " 9   touring                  10994 non-null  int64  \n",
      " 10  close_to_transportation  10994 non-null  int64  \n",
      " 11  independent_bath         10994 non-null  int64  \n",
      " 12  furnished                10994 non-null  int64  \n",
      " 13  new_listing              10994 non-null  int64  \n",
      " 14  size                     10994 non-null  int64  \n",
      " 15  orientation              10994 non-null  int64  \n",
      " 16  level                    10994 non-null  int64  \n",
      " 17  elevator                 10994 non-null  int64  \n",
      " 18  parking                  10994 non-null  int64  \n",
      " 19  amenities                10994 non-null  int64  \n",
      "dtypes: float64(3), int64(15), object(2)\n",
      "memory usage: 1.8+ MB\n"
     ]
    }
   ],
   "source": [
    "df_clean.info()"
   ]
  },
  {
   "cell_type": "code",
   "execution_count": 144,
   "metadata": {},
   "outputs": [
    {
     "data": {
      "text/plain": [
       "2    4227\n",
       "3    2743\n",
       "1    2732\n",
       "4     870\n",
       "5     312\n",
       "6      59\n",
       "7      28\n",
       "8      12\n",
       "0       7\n",
       "9       4\n",
       "Name: beds, dtype: int64"
      ]
     },
     "execution_count": 144,
     "metadata": {},
     "output_type": "execute_result"
    }
   ],
   "source": [
    "df_clean.beds.value_counts()"
   ]
  },
  {
   "cell_type": "markdown",
   "metadata": {},
   "source": [
    "### ETL"
   ]
  },
  {
   "cell_type": "code",
   "execution_count": 143,
   "metadata": {},
   "outputs": [
    {
     "ename": "AttributeError",
     "evalue": "'DataFrame' object has no attribute 'beds'",
     "output_type": "error",
     "traceback": [
      "\u001b[0;31m---------------------------------------------------------------------------\u001b[0m",
      "\u001b[0;31mAttributeError\u001b[0m                            Traceback (most recent call last)",
      "\u001b[0;32m<ipython-input-143-dace3871d7b0>\u001b[0m in \u001b[0;36m<module>\u001b[0;34m\u001b[0m\n\u001b[1;32m      1\u001b[0m \u001b[0;31m# clean beds\u001b[0m\u001b[0;34m\u001b[0m\u001b[0;34m\u001b[0m\u001b[0;34m\u001b[0m\u001b[0m\n\u001b[0;32m----> 2\u001b[0;31m \u001b[0mdf\u001b[0m\u001b[0;34m.\u001b[0m\u001b[0mbeds\u001b[0m\u001b[0;34m.\u001b[0m\u001b[0mvalue_counts\u001b[0m\u001b[0;34m(\u001b[0m\u001b[0;34m)\u001b[0m\u001b[0;34m\u001b[0m\u001b[0;34m\u001b[0m\u001b[0m\n\u001b[0m",
      "\u001b[0;32m~/opt/anaconda3/lib/python3.7/site-packages/pandas/core/generic.py\u001b[0m in \u001b[0;36m__getattr__\u001b[0;34m(self, name)\u001b[0m\n\u001b[1;32m   5272\u001b[0m             \u001b[0;32mif\u001b[0m \u001b[0mself\u001b[0m\u001b[0;34m.\u001b[0m\u001b[0m_info_axis\u001b[0m\u001b[0;34m.\u001b[0m\u001b[0m_can_hold_identifiers_and_holds_name\u001b[0m\u001b[0;34m(\u001b[0m\u001b[0mname\u001b[0m\u001b[0;34m)\u001b[0m\u001b[0;34m:\u001b[0m\u001b[0;34m\u001b[0m\u001b[0;34m\u001b[0m\u001b[0m\n\u001b[1;32m   5273\u001b[0m                 \u001b[0;32mreturn\u001b[0m \u001b[0mself\u001b[0m\u001b[0;34m[\u001b[0m\u001b[0mname\u001b[0m\u001b[0;34m]\u001b[0m\u001b[0;34m\u001b[0m\u001b[0;34m\u001b[0m\u001b[0m\n\u001b[0;32m-> 5274\u001b[0;31m             \u001b[0;32mreturn\u001b[0m \u001b[0mobject\u001b[0m\u001b[0;34m.\u001b[0m\u001b[0m__getattribute__\u001b[0m\u001b[0;34m(\u001b[0m\u001b[0mself\u001b[0m\u001b[0;34m,\u001b[0m \u001b[0mname\u001b[0m\u001b[0;34m)\u001b[0m\u001b[0;34m\u001b[0m\u001b[0;34m\u001b[0m\u001b[0m\n\u001b[0m\u001b[1;32m   5275\u001b[0m \u001b[0;34m\u001b[0m\u001b[0m\n\u001b[1;32m   5276\u001b[0m     \u001b[0;32mdef\u001b[0m \u001b[0m__setattr__\u001b[0m\u001b[0;34m(\u001b[0m\u001b[0mself\u001b[0m\u001b[0;34m,\u001b[0m \u001b[0mname\u001b[0m\u001b[0;34m:\u001b[0m \u001b[0mstr\u001b[0m\u001b[0;34m,\u001b[0m \u001b[0mvalue\u001b[0m\u001b[0;34m)\u001b[0m \u001b[0;34m->\u001b[0m \u001b[0;32mNone\u001b[0m\u001b[0;34m:\u001b[0m\u001b[0;34m\u001b[0m\u001b[0;34m\u001b[0m\u001b[0m\n",
      "\u001b[0;31mAttributeError\u001b[0m: 'DataFrame' object has no attribute 'beds'"
     ]
    }
   ],
   "source": [
    "# clean beds \n",
    "df.beds.value_counts()"
   ]
  },
  {
   "cell_type": "code",
   "execution_count": 86,
   "metadata": {},
   "outputs": [
    {
     "data": {
      "text/plain": [
       "2    4228\n",
       "3    2744\n",
       "1    2734\n",
       "4     870\n",
       "5     312\n",
       "6      59\n",
       "7      28\n",
       "8      12\n",
       "0       7\n",
       "9       4\n",
       "Name: beds, dtype: int64"
      ]
     },
     "execution_count": 86,
     "metadata": {},
     "output_type": "execute_result"
    }
   ],
   "source": [
    "# drop iregular bed\n",
    "df.drop(10813, axis=0, inplace=True)\n",
    "df.beds.value_counts()"
   ]
  },
  {
   "cell_type": "code",
   "execution_count": 87,
   "metadata": {},
   "outputs": [
    {
     "data": {
      "text/plain": [
       "count      10998\n",
       "unique       376\n",
       "top       4500.0\n",
       "freq         424\n",
       "Name: price, dtype: object"
      ]
     },
     "execution_count": 87,
     "metadata": {},
     "output_type": "execute_result"
    }
   ],
   "source": [
    "# check price\n",
    "df.price.describe()"
   ]
  },
  {
   "cell_type": "code",
   "execution_count": 88,
   "metadata": {},
   "outputs": [],
   "source": [
    "# clean orientation\n",
    "df.orientation = df.orientation.apply(lambda x: x.split(' ')[0])"
   ]
  },
  {
   "cell_type": "code",
   "execution_count": 89,
   "metadata": {},
   "outputs": [],
   "source": [
    "rep = {'南':1, '东南': 2, '东':3, '北': 4, '西南':5, '西': 6, '西北': 7, '东北':8, '未知':0}\n",
    "df.orientation.replace(rep, inplace=True)"
   ]
  },
  {
   "cell_type": "code",
   "execution_count": 90,
   "metadata": {},
   "outputs": [
    {
     "data": {
      "text/plain": [
       "1    9968\n",
       "2     290\n",
       "3     242\n",
       "4     211\n",
       "5     130\n",
       "6      96\n",
       "7      27\n",
       "8      23\n",
       "0      11\n",
       "Name: orientation, dtype: int64"
      ]
     },
     "execution_count": 90,
     "metadata": {},
     "output_type": "execute_result"
    }
   ],
   "source": [
    "df.orientation.value_counts()"
   ]
  },
  {
   "cell_type": "code",
   "execution_count": 91,
   "metadata": {},
   "outputs": [],
   "source": [
    "# check level\n",
    "df.level = df.level.apply(lambda x: x.split('/')[0])"
   ]
  },
  {
   "cell_type": "code",
   "execution_count": 92,
   "metadata": {
    "scrolled": true
   },
   "outputs": [
    {
     "data": {
      "text/plain": [
       "高楼层    3724\n",
       "低楼层    3656\n",
       "中楼层    3616\n",
       "地下室       2\n",
       "Name: level, dtype: int64"
      ]
     },
     "execution_count": 92,
     "metadata": {},
     "output_type": "execute_result"
    }
   ],
   "source": [
    "df.level.value_counts()"
   ]
  },
  {
   "cell_type": "code",
   "execution_count": 93,
   "metadata": {},
   "outputs": [
    {
     "data": {
      "text/plain": [
       "3    3724\n",
       "1    3656\n",
       "2    3616\n",
       "0       2\n",
       "Name: level, dtype: int64"
      ]
     },
     "execution_count": 93,
     "metadata": {},
     "output_type": "execute_result"
    }
   ],
   "source": [
    "df.level.replace({'地下室': 0, '低楼层': 1, '中楼层': 2, '高楼层':3}, inplace=True)\n",
    "df.level.value_counts()"
   ]
  },
  {
   "cell_type": "code",
   "execution_count": 94,
   "metadata": {},
   "outputs": [],
   "source": [
    "# check elevator\n",
    "df.elavator.value_counts()\n",
    "df.elavator.replace({'无':0, '有':1}, inplace=True)"
   ]
  },
  {
   "cell_type": "code",
   "execution_count": 95,
   "metadata": {},
   "outputs": [
    {
     "data": {
      "text/plain": [
       "0    5520\n",
       "1    5478\n",
       "Name: elavator, dtype: int64"
      ]
     },
     "execution_count": 95,
     "metadata": {},
     "output_type": "execute_result"
    }
   ],
   "source": [
    "df.elavator.value_counts()"
   ]
  },
  {
   "cell_type": "code",
   "execution_count": 96,
   "metadata": {},
   "outputs": [
    {
     "data": {
      "text/plain": [
       "暂无数据    7706\n",
       "租用车位    2679\n",
       "免费使用     613\n",
       "Name: parking, dtype: int64"
      ]
     },
     "execution_count": 96,
     "metadata": {},
     "output_type": "execute_result"
    }
   ],
   "source": [
    "# check parking\n",
    "df.parking.value_counts()"
   ]
  },
  {
   "cell_type": "code",
   "execution_count": 97,
   "metadata": {},
   "outputs": [
    {
     "data": {
      "text/plain": [
       "0    7706\n",
       "1    2679\n",
       "2     613\n",
       "Name: parking, dtype: int64"
      ]
     },
     "execution_count": 97,
     "metadata": {},
     "output_type": "execute_result"
    }
   ],
   "source": [
    "df.parking.replace({'暂无数据': 0, '租用车位':1, '免费使用': 2}, inplace=True)\n",
    "df.parking.value_counts()"
   ]
  },
  {
   "cell_type": "code",
   "execution_count": null,
   "metadata": {},
   "outputs": [],
   "source": []
  }
 ],
 "metadata": {
  "kernelspec": {
   "display_name": "Python 3",
   "language": "python",
   "name": "python3"
  },
  "language_info": {
   "codemirror_mode": {
    "name": "ipython",
    "version": 3
   },
   "file_extension": ".py",
   "mimetype": "text/x-python",
   "name": "python",
   "nbconvert_exporter": "python",
   "pygments_lexer": "ipython3",
   "version": "3.7.6"
  }
 },
 "nbformat": 4,
 "nbformat_minor": 4
}
