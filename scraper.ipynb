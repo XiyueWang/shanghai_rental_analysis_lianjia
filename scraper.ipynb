{
 "cells": [
  {
   "cell_type": "code",
   "execution_count": 1,
   "metadata": {},
   "outputs": [],
   "source": [
    "# import packages \n",
    "import requests\n",
    "import re\n",
    "from bs4 import BeautifulSoup"
   ]
  },
  {
   "cell_type": "code",
   "execution_count": 62,
   "metadata": {},
   "outputs": [],
   "source": [
    "def GetHTMLText(url):\n",
    "    '''\n",
    "    Return text content of given LianJia urls.\n",
    "    \n",
    "    Arg:\n",
    "    url: e.g. https://sh.lianjia.com/zufang\n",
    "    Return:\n",
    "    requests text content\n",
    "    '''\n",
    "    try:\n",
    "        headers = {\"User-Agent\": \"Mozilla/5.0 (Windows NT 6.1; Win64; x64) AppleWebKit/537.36 (KHTML, like Gecko) Chrome/84.0.4147.135 Safari/13.1.2\"}\n",
    "        r = requests.get(url, timeout = 30, headers = headers)\n",
    "        r.encoding = r.apparent_encoding\n",
    "        return r.text\n",
    "    except:\n",
    "        return ''"
   ]
  },
  {
   "cell_type": "code",
   "execution_count": 71,
   "metadata": {},
   "outputs": [],
   "source": [
    "def AreaParser(url):\n",
    "    '''\n",
    "    Scan through different districts and areas and create sub-pages urls \n",
    "    \n",
    "    Arg:\n",
    "    root page url: e.g. https://sh.lianjia.com/zufang\n",
    "    Return:\n",
    "    dictionary: 'jingan': {'jingansi': https://sh.lianjia.com/zufang/jingan/}\n",
    "    '''\n",
    "    html = GetHTMLText(url)\n",
    "    soup = BeautifulSoup(html, 'html.parser')\n",
    "    district_area_urls = {} # districts-areas urls\n",
    "    # find district urls \n",
    "    districts = soup.find('ul', {'data-target': 'area'}).find_all('li', class_='filter__item--level2')\n",
    "    for district in districts[1:]:\n",
    "        link1 = url+'/'+district.find('a')['href'].split('/')[-2]\n",
    "        district_name = district.find('a')['href'].split('/')[-2]\n",
    "        # find sub areas urls\n",
    "        html = GetHTMLText(link1)\n",
    "        soup = BeautifulSoup(html, \"html.parser\")\n",
    "        areas = {} # subarea info\n",
    "        area_list = soup.find_all(\"li\",{\"class\":\"filter__item--level3\"}) \n",
    "        for area in area_list[1:]:\n",
    "            link2 = url+'/'+area.find('a')['href'].split('/')[-2]\n",
    "            area_name= area.find('a')['href'].split('/')[-2]\n",
    "            areas[area_name] = link2\n",
    "        district_area_urls[district_name] = areas\n",
    "    return district_area_urls"
   ]
  },
  {
   "cell_type": "code",
   "execution_count": 72,
   "metadata": {},
   "outputs": [],
   "source": [
    "urls = AreaParser(url)"
   ]
  },
  {
   "cell_type": "code",
   "execution_count": 275,
   "metadata": {},
   "outputs": [],
   "source": [
    "def GetCoords(url):\n",
    "    '''\n",
    "    Return coordinates for target listing.\n",
    "    Arg:\n",
    "    listing url\n",
    "    Return:\n",
    "    dictionary: {long: float, lat: float}\n",
    "    '''\n",
    "    html = GetHTMLText(url)\n",
    "    coords = {}\n",
    "    lon = re.findall(r\"longitude: '\\d+\\.?\\d*'\", html)\n",
    "    coords['lon'] = float(lon[0].split(':')[1].strip()[1:-1]) # get float longitude \n",
    "    lat = re.findall(r\"latitude: '\\d+\\.?\\d*'\", html)\n",
    "    coords['lat'] = float(lat[0].split(':')[1].strip()[1:-1])\n",
    "    return coords"
   ]
  },
  {
   "cell_type": "code",
   "execution_count": 276,
   "metadata": {},
   "outputs": [],
   "source": [
    "def GetListingDetails(soup):\n",
    "    '''\n",
    "    Get features of each listing.\n",
    "    \n",
    "    Arg:\n",
    "    url for district-area-page: e.g. https://sh.lianjia.com/zufang/jingan/pg1\n",
    "    Return:\n",
    "    csv files: name, price, loc, features\n",
    "    '''\n",
    "    # get listings for each page\n",
    "    listings = soup.find('div', class_='content__list').find_all('div', class_='content__list--item')\n",
    "    # employ list to write \n",
    "    ptpl = '{},{},{},{},{},{},{},{},{},{},{},{},{},{},{},{},{},{},{},{},{}\\n'\n",
    "    \n",
    "    for listing in listings:\n",
    "        basic_info = listing.find('a', class_='twoline').get_text().strip()\n",
    "        name = basic_info.split('·')[1].split(' ')[0]\n",
    "        rent_type = basic_info.split('·')[0]\n",
    "        beds = basic_info.split('·')[1].split(' ')[1][0]\n",
    "        price = float(listing.find('span', class_='content__list--item-price').get_text().split(' ')[0])\n",
    "        link = listing.find('a', class_='twoline')['href']\n",
    "        sub_link = url + link[7:] # get sublink\n",
    "        coord = GetCoords(sub_link)\n",
    "        \n",
    "        # get tags, generate 1, 0 for tag features \n",
    "        taglist = ['独立阳台', '押一付一', '公寓', '月租', '随时看房', '近地铁', '独立卫生间', '精装', '新上']\n",
    "        tag = listing.find('p', class_ = 'content__list--item--bottom oneline').get_text().strip().split(\"\\n\")\n",
    "        tagnum = []\n",
    "        for i in range(9):\n",
    "            if taglist[i] in tag:\n",
    "                tagnum.append(1)\n",
    "            else:\n",
    "                tagnum.append(0)  \n",
    "                \n",
    "        # go to sub link to scrap more features \n",
    "        r = requests.get(sub_link)\n",
    "        soup = BeautifulSoup(r.text)\n",
    "        # go to features \n",
    "        try:\n",
    "            features = soup.find_all('li', class_='fl oneline')\n",
    "            size = int(features[1].get_text().strip()[3:-1])\n",
    "            orientation = features[2].get_text().strip()[3:]\n",
    "            level = features[7].get_text().strip()[3:]\n",
    "            elevator = features[8].get_text().strip()[3:]\n",
    "            parking = features[10].get_text().strip()[3:]\n",
    "            amenities = len(features)-24\n",
    "        except:\n",
    "            continue\n",
    "            \n",
    "        with open('rent_lianjia_shanghai.csv', 'a', encoding='utf-8') as f:\n",
    "            f.write(ptpl.format(name, rent_type, beds, price, coord['lon'], coord['lat'], tagnum[0],\n",
    "                                tagnum[1],tagnum[2],tagnum[3],tagnum[4],tagnum[5],tagnum[6],tagnum[7],tagnum[8],\n",
    "                               size, orientation, level, elevator, parking, amenities))"
   ]
  },
  {
   "cell_type": "code",
   "execution_count": 277,
   "metadata": {},
   "outputs": [
    {
     "data": {
      "text/plain": [
       "['https://sh.lianjia.com/zufang/buyecheng',\n",
       " 'https://sh.lianjia.com/zufang/caojiadu']"
      ]
     },
     "execution_count": 277,
     "metadata": {},
     "output_type": "execute_result"
    }
   ],
   "source": [
    "## test jingan first\n",
    "jingan_listing = list(urls['jingan'].values())[:2]\n",
    "jingan_listing"
   ]
  },
  {
   "cell_type": "code",
   "execution_count": 284,
   "metadata": {},
   "outputs": [],
   "source": [
    "for i in range(1, 5):\n",
    "    link = 'https://sh.lianjia.com/zufang/jingansi'\n",
    "    try:\n",
    "        url = link + '/pg' + str(i+1)\n",
    "        html = GetHTMLText(url)\n",
    "        soup = BeautifulSoup(html, \"html.parser\")\n",
    "        GetListingDetails(soup)\n",
    "    except:\n",
    "        continue"
   ]
  },
  {
   "cell_type": "code",
   "execution_count": null,
   "metadata": {},
   "outputs": [],
   "source": []
  }
 ],
 "metadata": {
  "kernelspec": {
   "display_name": "Python 3",
   "language": "python",
   "name": "python3"
  },
  "language_info": {
   "codemirror_mode": {
    "name": "ipython",
    "version": 3
   },
   "file_extension": ".py",
   "mimetype": "text/x-python",
   "name": "python",
   "nbconvert_exporter": "python",
   "pygments_lexer": "ipython3",
   "version": "3.7.6"
  }
 },
 "nbformat": 4,
 "nbformat_minor": 4
}
